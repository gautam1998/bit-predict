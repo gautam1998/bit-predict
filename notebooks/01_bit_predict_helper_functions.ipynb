{
  "nbformat": 4,
  "nbformat_minor": 0,
  "metadata": {
    "colab": {
      "name": "01_bit_predict_helper_functions.ipynb",
      "provenance": [],
      "authorship_tag": "ABX9TyOid6bFQDXPIXuhSFS65Wj+",
      "include_colab_link": true
    },
    "kernelspec": {
      "name": "python3",
      "display_name": "Python 3"
    },
    "language_info": {
      "name": "python"
    }
  },
  "cells": [
    {
      "cell_type": "markdown",
      "metadata": {
        "id": "view-in-github",
        "colab_type": "text"
      },
      "source": [
        "<a href=\"https://colab.research.google.com/github/gautam1998/bit-predict/blob/main/notebooks/01_bit_predict_helper_functions.ipynb\" target=\"_parent\"><img src=\"https://colab.research.google.com/assets/colab-badge.svg\" alt=\"Open In Colab\"/></a>"
      ]
    },
    {
      "cell_type": "code",
      "source": [
        "import tensorflow as tf\n",
        "import numpy as np"
      ],
      "metadata": {
        "id": "wud-W-Q5IjVr"
      },
      "execution_count": null,
      "outputs": []
    },
    {
      "cell_type": "code",
      "execution_count": null,
      "metadata": {
        "id": "JUYK5q4RIPaO"
      },
      "outputs": [],
      "source": [
        "# Create a function to plot time series data\n",
        "def plot_time_series(timesteps, values, format='.', start=0, end=None, label=None):\n",
        "  \"\"\"\n",
        "  Plots a timesteps (a series of points in time) against values (a series of values across timesteps).\n",
        "  \n",
        "  Parameters\n",
        "  ---------\n",
        "  timesteps : array of timesteps\n",
        "  values : array of values across time\n",
        "  format : style of plot, default \".\"\n",
        "  start : where to start the plot (setting a value will index from start of timesteps & values)\n",
        "  end : where to end the plot (setting a value will index from end of timesteps & values)\n",
        "  label : label to show on plot of values\n",
        "  \"\"\"\n",
        "  # Plot the series\n",
        "  plt.plot(timesteps[start:end], values[start:end], format, label=label)\n",
        "  plt.xlabel(\"Time\")\n",
        "  plt.ylabel(\"BTC Price\")\n",
        "  if label:\n",
        "    plt.legend(fontsize=14) # make label bigger\n",
        "  plt.grid(True)"
      ]
    },
    {
      "cell_type": "code",
      "source": [
        "def mean_absolute_scaled_error(y_true,y_pred):\n",
        "\n",
        "  mae = tf.reduce_mean(tf.abs(y_pred - y_true))\n",
        "  mae_naive_no_season = tf.reduce_mean(tf.abs(y_true[1:] - y_true[:-1]))\n",
        "\n",
        "  return (mae/mae_naive_no_season)\n",
        "\n",
        "def evaluate_preds(y_true,y_pred):\n",
        "\n",
        "  y_true = tf.cast(y_true, dtype=tf.float32)\n",
        "  y_pred = tf.cast(y_pred, dtype=tf.float32)\n",
        "  \n",
        "  mae = tf.keras.metrics.mean_absolute_error(y_true, y_pred)\n",
        "  mse = tf.keras.metrics.mean_squared_error(y_true, y_pred) \n",
        "  rmse = tf.sqrt(mse)\n",
        "  mape = tf.keras.metrics.mean_absolute_percentage_error(y_true, y_pred)\n",
        "  mase = mean_absolute_scaled_error(y_true, y_pred)\n",
        "\n",
        "  return {\"mae\": mae.numpy(),\n",
        "          \"mse\": mse.numpy(),\n",
        "          \"rmse\": rmse.numpy(),\n",
        "          \"mape\": mape.numpy(),\n",
        "          \"mase\": mase.numpy()}"
      ],
      "metadata": {
        "id": "jQFTR_GSIYUb"
      },
      "execution_count": null,
      "outputs": []
    },
    {
      "cell_type": "code",
      "source": [
        "def get_labelled_window(data,HORIZON):\n",
        "\n",
        "  return data[:,:-HORIZON],data[:,-HORIZON:]\n",
        "\n",
        "def make_windows(dataset,HORIZON=1,WINDOW=7):\n",
        "\n",
        "  window_step = tf.expand_dims(tf.range(WINDOW+HORIZON),axis=0).numpy()\n",
        "\n",
        "  window_indices = window_step + np.expand_dims(np.arange(len(dataset) - (WINDOW+HORIZON-1)),axis=0).T\n",
        "\n",
        "  windowed_data = dataset[window_indices]\n",
        "\n",
        "  windows,labels = get_labelled_window(windowed_data,HORIZON)\n",
        "\n",
        "  return windows,labels\n",
        "\n",
        "def split_into_train_and_test(windows,labels,split_size=0.2):\n",
        "\n",
        "  train_size = int((1-split_size)*(len(windows)))\n",
        "\n",
        "  train_windows = windows[:train_size]\n",
        "  train_labels = labels[:train_size]\n",
        "\n",
        "  test_windows = windows[train_size:]\n",
        "  test_labels = labels[train_size:]\n",
        "\n",
        "  return train_windows,train_labels,test_windows,test_labels"
      ],
      "metadata": {
        "id": "R2S-DttfIz33"
      },
      "execution_count": null,
      "outputs": []
    },
    {
      "cell_type": "code",
      "source": [
        "def build_compile_fit(results,HORIZON=1,WINDOW=7):\n",
        "\n",
        "  full_windows,full_labels = make_windows(prices,HORIZON,WINDOW)\n",
        "  print(len(full_windows),len(full_labels),len(full_windows[0]),len(full_labels[0]))\n",
        "\n",
        "  train_windows,train_labels,test_windows,test_labels = split_into_train_and_test(full_windows,full_labels)\n",
        "  print(len(train_windows),len(train_labels),len(test_windows),len(test_labels))\n",
        "\n",
        "\n",
        "  tf.random.set_seed(42)\n",
        "\n",
        "  input_layer = tf.keras.layers.Input(shape=(WINDOW,))\n",
        "  dense_layer = tf.keras.layers.Dense(128,activation='relu')(input_layer)\n",
        "  output_layer = tf.keras.layers.Dense(HORIZON,activation='linear')(dense_layer)\n",
        "\n",
        "  model_name = \"model_\" + str(HORIZON) + \"_\" + str(WINDOW)\n",
        "  print(model_name)\n",
        "  model_temp = tf.keras.Model(input_layer,output_layer)\n",
        "\n",
        "  model_temp.compile(\n",
        "    loss = \"mae\",\n",
        "    optimizer = tf.keras.optimizers.Adam(),\n",
        "    metrics = [\"mae\"]   \n",
        "  )\n",
        "\n",
        "  model_temp_history = model_temp.fit(train_windows,train_labels,epochs=100,verbose=0,validation_data=(test_windows,test_labels),callbacks=[SaveBestWeights(\"checkpoints\",model_name)])\n",
        "\n",
        "  model_temp = tf.keras.models.load_model('checkpoints/'+ model_name)\n",
        "  model_temp_preds = tf.squeeze(model_temp.predict(test_windows))\n",
        "  model_temp_results = evaluate_preds(tf.squeeze(test_labels),model_temp_preds)\n",
        "  model_temp_results[\"WINDOW\"] = WINDOW\n",
        "  model_temp_results[\"HORIZON\"] = HORIZON\n",
        "\n",
        "  results = results.append(model_temp_results, ignore_index=True)\n",
        "\n",
        "  return results\n",
        "  #return model_temp_results"
      ],
      "metadata": {
        "id": "qN5-jBvJK7oi"
      },
      "execution_count": null,
      "outputs": []
    }
  ]
}